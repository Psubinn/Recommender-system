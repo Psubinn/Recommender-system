{
 "cells": [
  {
   "cell_type": "code",
   "execution_count": 1,
   "id": "62f56a5a",
   "metadata": {},
   "outputs": [],
   "source": [
    "# import lib \n",
    "import matplotlib.pyplot as plt\n",
    "import imutils\n",
    "from imutils.object_detection import non_max_suppression\n",
    "from imutils.perspective import four_point_transform\n",
    "from imutils.contours import sort_contours\n",
    "import numpy as np\n",
    "import requests\n",
    "import pytesseract\n",
    "import cv2"
   ]
  },
  {
   "cell_type": "code",
   "execution_count": 2,
   "id": "10843bba-55c6-4dbb-8c60-366c800c59f0",
   "metadata": {},
   "outputs": [],
   "source": [
    "# function\n",
    "def plt_imshow(title='image', img=None, figsize=(8 ,5)):\n",
    "    plt.figure(figsize=figsize)\n",
    " \n",
    "    if type(img) == list:\n",
    "        if type(title) == list:\n",
    "            titles = title\n",
    "        else:\n",
    "            titles = []\n",
    " \n",
    "            for i in range(len(img)):\n",
    "                titles.append(title)\n",
    " \n",
    "        for i in range(len(img)):\n",
    "            if len(img[i].shape) <= 2:\n",
    "                rgbImg = cv2.cvtColor(img[i], cv2.COLOR_GRAY2RGB)\n",
    "            else:\n",
    "                rgbImg = cv2.cvtColor(img[i], cv2.COLOR_BGR2RGB)\n",
    " \n",
    "            plt.subplot(1, len(img), i + 1), plt.imshow(rgbImg)\n",
    "            plt.title(titles[i])\n",
    "            plt.xticks([]), plt.yticks([])\n",
    " \n",
    "        plt.show()\n",
    "    else:\n",
    "        if len(img.shape) < 3:\n",
    "            rgbImg = cv2.cvtColor(img, cv2.COLOR_GRAY2RGB)\n",
    "        else:\n",
    "            rgbImg = cv2.cvtColor(img, cv2.COLOR_BGR2RGB)\n",
    " \n",
    "        plt.imshow(rgbImg)\n",
    "        plt.title(title)\n",
    "        plt.xticks([]), plt.yticks([])\n",
    "        plt.show()\n",
    " \n",
    "def decode_predictions(scores, geometry):\n",
    "\t(numRows, numCols) = scores.shape[2:4]\n",
    "\trects = []\n",
    "\tconfidences = []\n",
    " \n",
    "\tfor y in range(0, numRows):\n",
    "\t\tscoresData = scores[0, 0, y]\n",
    "\t\txData0 = geometry[0, 0, y]\n",
    "\t\txData1 = geometry[0, 1, y]\n",
    "\t\txData2 = geometry[0, 2, y]\n",
    "\t\txData3 = geometry[0, 3, y]\n",
    "\t\tanglesData = geometry[0, 4, y]\n",
    " \n",
    "\t\tfor x in range(0, numCols):\n",
    "\t\t\tif scoresData[x] < min_confidence:\n",
    "\t\t\t\tcontinue\n",
    " \n",
    "\t\t\t(offsetX, offsetY) = (x * 4.0, y * 4.0)\n",
    " \n",
    "\t\t\tangle = anglesData[x]\n",
    "\t\t\tcos = np.cos(angle)\n",
    "\t\t\tsin = np.sin(angle)\n",
    " \n",
    "\t\t\th = xData0[x] + xData2[x]\n",
    "\t\t\tw = xData1[x] + xData3[x]\n",
    " \n",
    "\t\t\tendX = int(offsetX + (cos * xData1[x]) + (sin * xData2[x]))\n",
    "\t\t\tendY = int(offsetY - (sin * xData1[x]) + (cos * xData2[x]))\n",
    "\t\t\tstartX = int(endX - w)\n",
    "\t\t\tstartY = int(endY - h)\n",
    " \n",
    "\t\t\trects.append((startX, startY, endX, endY))\n",
    "\t\t\tconfidences.append(scoresData[x])\n",
    " \n",
    "\treturn (rects, confidences)"
   ]
  },
  {
   "cell_type": "code",
   "execution_count": 3,
   "id": "8fc6345d-d273-403e-a56f-ec10b936a044",
   "metadata": {},
   "outputs": [
    {
     "name": "stdout",
     "output_type": "stream",
     "text": [
      "[INFO] loading EAST text detector...\n"
     ]
    }
   ],
   "source": [
    "# load model\n",
    "layerNames = [\"feature_fusion/Conv_7/Sigmoid\", # first layer : whether region has text\n",
    "              \"feature_fusion/concat_3\"] # extract bounding box\n",
    " \n",
    "# 사전에 훈련된 EAST text detector 모델 Load\n",
    "print(\"[INFO] loading EAST text detector...\")\n",
    "net = cv2.dnn.readNet('...\\EAST_text_detection\\frozen_east_text_detection.pb\")\n",
    "\n",
    "width = 640\n",
    "height = 640\n",
    "min_confidence = 0.5\n",
    "padding = 0.0"
   ]
  },
  {
   "cell_type": "code",
   "execution_count": 4,
   "id": "888c8e30-96eb-4ca9-a21c-cbf2e07eb815",
   "metadata": {
    "scrolled": true
   },
   "outputs": [],
   "source": [
    "# image load\n",
    "image_path = '.jpg'\n",
    "img_array = np.fromfile(image_path, np.uint8)\n",
    "image = cv2.imdecode(img_array, cv2.IMREAD_COLOR)\n",
    "\n",
    "# input image의 size가 32의 배수여야한다.\n",
    "orig_image=image.copy()\n",
    "text_extract_image=image.copy()\n",
    "(H,W) = image.shape[:2]\n",
    "\n",
    "# 새로운 width와 height를 설정하고 비율을 구한다\n",
    "(newW,newH) = width,height\n",
    "rW=W/float(newW)\n",
    "rH=H/float(newH)\n",
    "\n",
    "# image의 size를 재설정하고 새 이미지의 dimension을 구한다\n",
    "image=cv2.resize(image,(newW,newH))\n",
    "(H,W) = image.shape[:2]"
   ]
  },
  {
   "cell_type": "code",
   "execution_count": null,
   "id": "be73e4d7-ca02-4971-bb73-9eafe676f49c",
   "metadata": {},
   "outputs": [],
   "source": [
    "'''\n",
    "url = 'https://user-images.githubusercontent.com/69428232/149087561-4803b3e0-bcb4-4f9f-a597-c362db24ff9c.jpg'\n",
    " \n",
    "image_nparray = np.asarray(bytearray(requests.get(url).content), dtype=np.uint8)\n",
    "org_image = cv2.imdecode(image_nparray, cv2.IMREAD_COLOR) \n",
    " \n",
    "plt_imshow(\"Original\", org_image)\n",
    "'''"
   ]
  },
  {
   "cell_type": "code",
   "execution_count": null,
   "id": "7ac3fa0d-0bbf-4824-ad82-13403b66a391",
   "metadata": {
    "scrolled": true
   },
   "outputs": [],
   "source": [
    "plt_imshow(\"Original\", image)"
   ]
  },
  {
   "cell_type": "code",
   "execution_count": 7,
   "id": "7afa9c56-a985-4b40-a837-64baef049c63",
   "metadata": {},
   "outputs": [],
   "source": [
    "'''\n",
    "# image resize\n",
    "orig = image.copy()\n",
    "(origH, origW) = image.shape[:2]\n",
    " \n",
    "(newW, newH) = (width, height)\n",
    "rW = origW / float(newW)\n",
    "rH = origH / float(newH)\n",
    " \n",
    "org_image = cv2.resize(image, (newW, newH))\n",
    "(H, W) = org_image.shape[:2]\n",
    "'''"
   ]
  },
  {
   "cell_type": "code",
   "execution_count": 8,
   "id": "2a724099-0796-4ac5-977d-623c0dc73f9c",
   "metadata": {},
   "outputs": [],
   "source": [
    "# text detection\n",
    "blob = cv2.dnn.blobFromImage(image, 1.0, (W, H), (123.68, 116.78, 103.94), swapRB=True, crop=False)\n",
    "net.setInput(blob)\n",
    "(scores, geometry) = net.forward(layerNames)\n",
    " \n",
    "(rects, confidences) = decode_predictions(scores, geometry)\n",
    "boxes = non_max_suppression(np.array(rects), probs=confidences) # non-maxima suppression 을 weak,overlapping bounding boxes을 없애기위해 적용해준다"
   ]
  },
  {
   "cell_type": "code",
   "execution_count": 9,
   "id": "88d92e8f-76d2-4b99-ae89-ca6ac472ce3b",
   "metadata": {},
   "outputs": [],
   "source": [
    "pytesseract.pytesseract.tesseract_cmd = '...\\Tesseract-OCR\\tesseract.exe'"
   ]
  },
  {
   "cell_type": "code",
   "execution_count": 10,
   "id": "445b9867-c165-4a26-8094-a03c66641aa2",
   "metadata": {
    "scrolled": true
   },
   "outputs": [],
   "source": [
    "# recognition\n",
    "results = []\n",
    " \n",
    "for (startX, startY, endX, endY) in boxes:\n",
    "\tstartX = int(startX * rW)\n",
    "\tstartY = int(startY * rH)\n",
    "\tendX = int(endX * rW)\n",
    "\tendY = int(endY * rH)\n",
    " \n",
    "\tdX = int((endX - startX) * padding)\n",
    "\tdY = int((endY - startY) * padding)\n",
    " \n",
    "\tstartX = max(0, startX - dX)\n",
    "\tstartY = max(0, startY - dY)\n",
    "\tendX = min(origW, endX + (dX * 2))\n",
    "\tendY = min(origH, endY + (dY * 2))\n",
    "\t# 영역 추출\n",
    "\troi = orig[startY:endY, startX:endX]\n",
    " \n",
    "\t#config = (\"-l eng --psm 4\")\n",
    "\ttext = pytesseract.image_to_string(roi, lang='kor') # text를 읽어오는 pytesseract\n",
    " \n",
    "\tresults.append(((startX, startY, endX, endY), text))"
   ]
  },
  {
   "cell_type": "code",
   "execution_count": null,
   "id": "bb2b5184-7d0e-459e-8e44-f17cbba01418",
   "metadata": {
    "scrolled": true
   },
   "outputs": [],
   "source": [
    "# result\n",
    "results = sorted(results, key=lambda r:r[0][1])\n",
    " \n",
    "output = orig.copy()\n",
    " \n",
    "# 결과 출력\n",
    "from PIL import ImageFont, ImageDraw, Image\n",
    "font = ImageFont.truetype('...\\gulim.ttc',20)\n",
    "\n",
    "\n",
    "for ((startX, startY, endX, endY), text) in results:\n",
    "    cv2.rectangle(output, (startX, startY), (endX, endY), (0, 255, 0), 5)\n",
    "\t#cv2.putText(output, text, (startX, startY - 20), cv2.FONT_HERSHEY_SIMPLEX, 1.2, (0, 255, 0), 5)\n",
    "    # error with korean\n",
    "    img_pil = Image.fromarray(output)\n",
    "    draw = ImageDraw.Draw(img_pil)\n",
    "    draw.text((startX, startY - 20) , text, (0,0,255), font=font)\n",
    "    output = np.array(img_pil)\n",
    " \n",
    "plt_imshow(\"Text Detection\", output, figsize=(16, 10))"
   ]
  },
  {
   "cell_type": "code",
   "execution_count": null,
   "id": "1cf2b49f-9703-4a35-b9da-380b70810477",
   "metadata": {},
   "outputs": [],
   "source": []
  },
  {
   "cell_type": "code",
   "execution_count": null,
   "id": "ad98195c-4c53-46b1-a719-bb9e7fadc772",
   "metadata": {},
   "outputs": [],
   "source": []
  },
  {
   "cell_type": "markdown",
   "id": "9601f36a-ce6a-4265-ae2f-332aa35467d6",
   "metadata": {},
   "source": [
    "### 마우스를 이용하여 이미지에서 원하는 부분을 ROI로 지정"
   ]
  },
  {
   "cell_type": "code",
   "execution_count": null,
   "id": "59d0400f-4be8-489b-bcb0-aabc625323da",
   "metadata": {},
   "outputs": [],
   "source": [
    "# image load\n",
    "image_path = '.jpg'\n",
    "img_array = np.fromfile(image_path, np.uint8)\n",
    "image = cv2.imdecode(img_array, cv2.IMREAD_COLOR)\n",
    "x,y,w,h = cv2.selectROI('image',image,False)\n",
    "\n",
    "if w and h:\n",
    "    roi = image[y:y+h, x:x+w]\n",
    "    cv2.imshow('test',roi)\n",
    "    cv2.imwrite('test.jpg',roi)\n",
    "# tesseract를 이용해서 ocr을 진행하도록 한다\n",
    "    ocr = pytesseract.image_to_string('test.jpg',lang='kor')\n",
    "    print(ocr)\n",
    "    \n",
    "cv2.waitKey(0)\n",
    "cv2.destroyAllWindows()"
   ]
  },
  {
   "cell_type": "code",
   "execution_count": null,
   "id": "5b99696c-7494-468e-bab3-cdb67c725dab",
   "metadata": {},
   "outputs": [],
   "source": []
  }
 ],
 "metadata": {
  "kernelspec": {
   "display_name": "Python 3 (ipykernel)",
   "language": "python",
   "name": "python3"
  },
  "language_info": {
   "codemirror_mode": {
    "name": "ipython",
    "version": 3
   },
   "file_extension": ".py",
   "mimetype": "text/x-python",
   "name": "python",
   "nbconvert_exporter": "python",
   "pygments_lexer": "ipython3",
   "version": "3.10.12"
  }
 },
 "nbformat": 4,
 "nbformat_minor": 5
}
